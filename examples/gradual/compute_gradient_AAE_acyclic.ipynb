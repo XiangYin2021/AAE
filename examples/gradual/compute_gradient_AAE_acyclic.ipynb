{
 "cells": [
  {
   "cell_type": "code",
   "execution_count": 70,
   "outputs": [],
   "source": [
    "import sys\n",
    "sys.path.append(\"../../src/\")\n",
    "import uncertainpy.gradual as grad"
   ],
   "metadata": {
    "collapsed": false
   }
  },
  {
   "cell_type": "code",
   "execution_count": 71,
   "outputs": [],
   "source": [
    "def compute_gradient(model, arg1, arg2, h, agg_f, inf_f):\n",
    "    original_strength = arg2.get_strength()\n",
    "    initial_weight = arg1.get_initial_weight()\n",
    "    arg1.reset_initial_weight(initial_weight+h) # change it to the counterfctual value\n",
    "    grad.algorithms.computeStrengthValues(model, agg_f, inf_f)\n",
    "    counterfactual_strength = arg2.get_strength()\n",
    "    gradient = (counterfactual_strength-original_strength)/h\n",
    "    arg1.reset_initial_weight(initial_weight) # change it back to the original value\n",
    "    grad.algorithms.computeStrengthValues(model, agg_f, inf_f)\n",
    "    return gradient"
   ],
   "metadata": {
    "collapsed": false
   }
  },
  {
   "cell_type": "code",
   "execution_count": 72,
   "metadata": {
    "scrolled": true
   },
   "outputs": [
    {
     "name": "stdout",
     "output_type": "stream",
     "text": [
      "('A', 0.5739738587440771)\n",
      "('B', 0.4)\n",
      "('C', 0.5)\n",
      "('D', 0.4833023870907415)\n",
      "('E', 0.5)\n",
      "('F', 0.18587360594795538)\n",
      "('G', 0.5)\n",
      "('H', 0.8)\n"
     ]
    }
   ],
   "source": [
    "# Computation via Forward Propagation\n",
    "bag = grad.BAG(\"../../bags/fake_news_neema.bag\")\n",
    "\n",
    "# QE\n",
    "agg_f = grad.semantics.modular.SumAggregation()\n",
    "inf_f = grad.semantics.modular.QuadraticMaximumInfluence(conservativeness=1)\n",
    "\n",
    "# # DF-QuAD\n",
    "# agg_f = grad.semantics.modular.ProductAggregation()\n",
    "# inf_f = grad.semantics.modular.LinearInfluence(conservativeness=1)\n",
    "\n",
    "# # SD-DF-QUAD\n",
    "# agg_f = grad.semantics.modular.ProductAggregation()\n",
    "# inf_f = grad.semantics.modular.SQDFQUADInfluence(conservativeness=1)\n",
    "\n",
    "# # EB\n",
    "# agg_f = grad.semantics.modular.SumAggregation()\n",
    "# inf_f = grad.semantics.modular.EulerBasedInfluence()\n",
    "\n",
    "# # EBT\n",
    "# agg_f = grad.semantics.modular.TopAggregation()\n",
    "# inf_f = grad.semantics.modular.EulerBasedInfluence()\n",
    "\n",
    "#returns dictionary of strength values if needed\n",
    "strength_values = grad.algorithms.computeStrengthValues(bag, agg_f, inf_f)\n",
    "\n",
    "for arg in bag.arguments.values():\n",
    "    print((arg.name,arg.strength))"
   ]
  },
  {
   "cell_type": "code",
   "execution_count": 73,
   "outputs": [
    {
     "name": "stdout",
     "output_type": "stream",
     "text": [
      "0.8520522842836442\n",
      "0.242015674167817\n",
      "0.30251959826088637\n",
      "-0.29241687959924434\n",
      "-0.09680626300578865\n",
      "0.019530654871147135\n",
      "-0.009438605452771753\n",
      "-0.009438605452771753\n"
     ]
    }
   ],
   "source": [
    "# arg1 = bag.arguments[\"\"]\n",
    "# arg2 = bag.arguments[\"m\"]\n",
    "topic_arg = bag.arguments[\"A\"]\n",
    "h = 0.00000001\n",
    "for arg1 in bag.arguments.values():\n",
    "    gradient = compute_gradient(bag, arg1, topic_arg, h, agg_f, inf_f)\n",
    "    # print(f\"gradient for argument {arg1.name} is {gradient}\")\n",
    "    print(f\"{gradient}\")"
   ],
   "metadata": {
    "collapsed": false
   }
  }
 ],
 "metadata": {
  "kernelspec": {
   "display_name": "Python 3 (ipykernel)",
   "language": "python",
   "name": "python3"
  },
  "language_info": {
   "codemirror_mode": {
    "name": "ipython",
    "version": 3
   },
   "file_extension": ".py",
   "mimetype": "text/x-python",
   "name": "python",
   "nbconvert_exporter": "python",
   "pygments_lexer": "ipython3",
   "version": "3.9.13"
  },
  "vscode": {
   "interpreter": {
    "hash": "369f2c481f4da34e4445cda3fffd2e751bd1c4d706f27375911949ba6bb62e1c"
   }
  }
 },
 "nbformat": 4,
 "nbformat_minor": 2
}
